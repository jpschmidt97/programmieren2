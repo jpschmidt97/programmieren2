{
 "cells": [
  {
   "cell_type": "markdown",
   "id": "0d9a7a29",
   "metadata": {},
   "source": [
    "# Einführung in Python – Übungen"
   ]
  },
  {
   "cell_type": "markdown",
   "id": "1ca96c42-391d-4cfe-9dfc-4cd264a450e5",
   "metadata": {},
   "source": [
    "## jupyter formatierung"
   ]
  },
  {
   "cell_type": "code",
   "execution_count": null,
   "id": "c1e17aff-721b-4925-a91c-5944e66a0256",
   "metadata": {},
   "outputs": [],
   "source": [
    "'''\n",
    "# H1 (Größte Überschrift)\n",
    "## H2\n",
    "### H3\n",
    "#### H4\n",
    "\n",
    "**Fetter Text**  \n",
    "*Kursiver Text*  \n",
    "`Inline-Code`\n",
    "\n",
    "Unsortierte Liste:\n",
    "- Punkt 1\n",
    "- Punkt 2\n",
    "Sortierte Liste:\n",
    "1. Erster Punkt\n",
    "2. Zweiter Punkt\n",
    "\n",
    "\n",
    "Tabelle\n",
    "| Spalte 1 | Spalte 2 |\n",
    "|----------|----------|\n",
    "| Wert 1   | Wert 2   |\n",
    "6. Zeilenumbrüche\n",
    "Zeile 1  \n",
    "Zeile 2  (mit zwei Leerzeichen am Ende)\n",
    "'''"
   ]
  },
  {
   "cell_type": "markdown",
   "id": "da8c0f98-c703-497d-b4e7-a403001a84c8",
   "metadata": {},
   "source": [
    "## Jupyter Shortcuts\n",
    "**Moduswechsel**\n",
    "- Esc : Wechsel in den Befehlsmodus  \n",
    "- Enter : Wechsel in den Editiermodus\n",
    "    \n",
    "**Zellennavigation & Bearbeitung**  \n",
    "- A : Neue Zelle oberhalb einfügen (Befehlsmodus)  \n",
    "- B : Neue Zelle unterhalb einfügen (Befehlsmodus)  \n",
    "- D, D (zweimal D drücken) : Zelle löschen (Befehlsmodus)  \n",
    "- Shift + Enter : Zelle ausführen und zur nächsten springen\n",
    "- Ctrl + Enter : Zelle ausführen, aber im selben Feld bleiben\n",
    "- Alt + Enter : Zelle ausführen und neue darunter erstellen\n",
    " \n",
    "**Zellentypen ändern**\n",
    "- M : Zelle in Markdown umwandeln (für Text & Formatierung)\n",
    "- Y : Zelle in Code umwandeln\n",
    "- Zellen verschieben\n",
    "- Shift + Up/Down : Mehrere Zellen markieren\n",
    "- Esc + Up/Down : Zwischen Zellen wechseln\n",
    "- Shift + M : Markierte Zellen zusammenführen\n",
    "- Ctrl + S : Speichern\n",
    "- H : Shortcut-Hilfe anzeigen"
   ]
  },
  {
   "cell_type": "markdown",
   "id": "5a3a6c2a",
   "metadata": {},
   "source": [
    "# Basic Navigation Commands in der Kommandozeile\n",
    "**navigation**\n",
    "- cd path\\to\\directory        # Change Directory\n",
    "- dir                         # List contents of the current directory\n",
    "- cd ..                       # Move up one directory level\n",
    "- cd \\                        # Move to the root directory\n",
    "\n",
    "**File Management Commands**\n",
    "- copy source_file destination_file  # Copy files\n",
    "- move source_file destination_file  # Move files\n",
    "- del filename                       # Delete files\n",
    "- ren old_filename new_filename      # Rename files\n",
    "\n",
    "**Directory Management Commands**\n",
    "- mkdir new_directory                # Create a new directory\n",
    "- rmdir directory_name               # Remove an empty directory\n",
    "- rmdir /s directory_name            # Remove a directory and all its contents\n",
    "\n",
    "**Other Useful Commands**\n",
    "- cls                         # Clear the Command Prompt screen\n",
    "- echo message                # Display messages or turn command echoing on or off\n",
    "- type filename               # Display the contents of a text file\n",
    "- help                        # Display a list of available commands and their descriptions\n",
    "\n",
    "**Run a program**\n",
    "- navigate to the program (cd...)\n",
    "- program.exe\n"
   ]
  },
  {
   "cell_type": "markdown",
   "id": "acd6e7bf",
   "metadata": {},
   "source": [
    "### Git + Gitlab/Github\n",
    "\n",
    "Verwaltung von Repos, Sharing von Code, Versionsverwaltung Code\n",
    "\n",
    "- Installation git über Gui\n",
    "- repository erstellen -> github\n",
    "- repository initial lokal kopieren (clon) -> \n",
    "    - zum Ordner navigieren, in dem das Repo erstellt werden soll\n",
    "    - git clone URL (URL bekommt man von github)\n",
    "- Änderungen hinzufügen: git add . (alle Änderungen im Ordner)\n",
    "- Änderungen sichern\n",
    "    - git commit -m \"Beschreibung\"\n",
    "- Änderungen auf Github hochladen -> push\n",
    "    - git push origin [branchname]\n",
    "- Änderungen von Github herunterladen/synchronisieren\n",
    "    - pull\n",
    "\n"
   ]
  },
  {
   "cell_type": "markdown",
   "id": "8934f065-a487-4700-b85f-7124c159b8d2",
   "metadata": {},
   "source": [
    "**Aufgabe git**\n",
    "- Erstellen Sie ein Repository\n",
    "- Clonen Sie das Repository in einen lokalen Ordner\n",
    "- Ändern Sie lokal etwas\n",
    "- Committen und pushen Sie die lokalen Änderungen auf github (bzw. System Ihrer Wahl)"
   ]
  },
  {
   "cell_type": "markdown",
   "id": "95edd78e",
   "metadata": {},
   "source": [
    "##Pandas\n",
    "Tool zur Datenanalyse und -Manipulation\n",
    "\n",
    "**Series**: 1-dimensionales Array mit Label (wie eine Excelspalte)\n",
    "\n",
    "**DataFrame**: \n",
    "- 2-dimensionale Datenstruktur, ähnlich einer Exceltabelle\n",
    "- Spalten sind einzelne Series (DataFrame mit einer spalte ist tatsächlich automatisch eine Series)\n",
    "- index wird automatisch assigned, kann aber verändert werden\n",
    "- df.columns -> liefert Spaltennamen\n",
    "- df.rename(columns='alterName1':'neuerName1','alterName2','neuerName2') -> Umbenennung von Spaltennamen\n",
    "- len(df) -> liefert Länge eines DataFrames, sprich number of rows\n",
    "- df.shape([1]) -> liefert Spaltenanzahl\n",
    "- df.info() -> basic Infos\n",
    "- df.describe() -> liefert einfache statische Kennwerte für einen DataFrame df\n",
    "\n",
    "**Slicing eines DataFrames**\n",
    "- mit df['spalte'] wird auf eine einzelne Spalte zugegriffen\n",
    "- mit df"
   ]
  },
  {
   "cell_type": "code",
   "execution_count": null,
   "id": "c4ac24f3",
   "metadata": {},
   "outputs": [],
   "source": [
    "# Aufgabe: Erstellen Sie eine Series aus einer Liste und printen Sie\n"
   ]
  },
  {
   "cell_type": "markdown",
   "id": "66ca7811",
   "metadata": {},
   "source": [
    "**Aufgabe: Erstellen Sie verschiedene DFs**\n",
    "\n",
    "- DataFrames können aus dictionaries, lists of dictionaries, list of lists, numpyArrays erzeugt werden\n",
    "- erstellen S/ie auf Basis der gezeigten Möglichkeinen einen DataFrame und benennen Sie die Spalten des Dataframe. Anschließend printen Sie den DF"
   ]
  },
  {
   "cell_type": "code",
   "execution_count": null,
   "id": "4985acb0",
   "metadata": {},
   "outputs": [],
   "source": [
    "# dict -> keys sind Spaltennamen, Values sind Spaltenwerte\n",
    "# Tabelle mit Personen mit Alter und Wohnort\n"
   ]
  },
  {
   "cell_type": "code",
   "execution_count": null,
   "id": "576bb653",
   "metadata": {},
   "outputs": [],
   "source": [
    "# list of dicts\n"
   ]
  },
  {
   "cell_type": "code",
   "execution_count": null,
   "id": "34261547",
   "metadata": {},
   "outputs": [],
   "source": [
    "# list of lists -> [ [],[],]\n",
    "\n"
   ]
  },
  {
   "cell_type": "code",
   "execution_count": null,
   "id": "d6fe15ac",
   "metadata": {},
   "outputs": [],
   "source": [
    "# from numpy array -> numpy array ist schneller als z.B. list -> numpy core in C\n",
    "# dt=np.array([[],[]])\n"
   ]
  },
  {
   "cell_type": "code",
   "execution_count": null,
   "id": "80e738d3",
   "metadata": {},
   "outputs": [],
   "source": [
    "# from another df -> teil eines DF zu neuem DF machen\n",
    "\n"
   ]
  },
  {
   "cell_type": "markdown",
   "id": "17bd3c61",
   "metadata": {},
   "source": [
    "**Slicing eines DataFrames mit loc und iloc**\n",
    "- mit df['spalte'] wird auf eine einzelne Spalte zugegriffen\n",
    "- mit loc bzw. iloc wird genauer auf einzelne Elemente oder eine Range von Elementen zugegriffen\n",
    "\n",
    "**loc-based indexing**\n",
    "- nutzt label, sprich Zeilen- oder Spaltennamen\n",
    "- df.loc['a'] -> wenn nur 1 index gegeben, wird auf zeile (=index) zugegriffen\n",
    "- df.loc[1,'name'] -> es wird auf Zeile + Spalte zugegriffen\n",
    "- df.loc[:,'name'] -> range, aber in dem Fall alle Zeilen\n",
    "- df.loc[0:2,'name'] -> auf die Zeilen 0, 1,2 und die Spalte *name* wird zugegriffen \n",
    "\n",
    "**iloc-based indexing**\n",
    "- nutzt integer-Position zur Auswahl von Daten (wie beim Zugriff auf Java-Array, listenelement...)\n",
    "- df.iloc[1] -> wählt 2. Zeile\n",
    "- df.iloc[[1,3]] -> wählt 2. und 4. Zeile\n",
    "- df.iloc[:,1] -> wählt alle Zeilen der 2. Spalte\n",
    "- df.iloc[0:2,2] -> wählt 1. u 2. Zeile der 3. spalte"
   ]
  },
  {
   "cell_type": "markdown",
   "id": "3113d150",
   "metadata": {},
   "source": [
    "**Aufgabe - loc**\n",
    "- Greifen Sie auf eine Zeile zu\n",
    "- Greifen Sie auf eine spalte zu \n",
    "- Greifen Sie auf das element in der ersten Spalte in einer spezifischen Spalte zu\n"
   ]
  },
  {
   "cell_type": "code",
   "execution_count": null,
   "id": "96b30a18",
   "metadata": {},
   "outputs": [],
   "source": [
    "# slicing mit loc\n",
    "\n"
   ]
  },
  {
   "cell_type": "markdown",
   "id": "f3820658",
   "metadata": {},
   "source": [
    "**Aufgabe - iloc**\n",
    "- Greifen Sie auf eine Zeile zu\n",
    "- Greifen Sie auf eine spalte zu \n",
    "- Greifen Sie auf das element in der ersten Spalte in einer spezifischen Spalte zu"
   ]
  },
  {
   "cell_type": "code",
   "execution_count": null,
   "id": "8524ad08",
   "metadata": {},
   "outputs": [],
   "source": [
    "# iloc\n"
   ]
  },
  {
   "cell_type": "code",
   "execution_count": null,
   "id": "a4f5c1a5",
   "metadata": {},
   "outputs": [],
   "source": []
  },
  {
   "cell_type": "markdown",
   "id": "d30c57a0",
   "metadata": {},
   "source": [
    "**Erstellen von dataFrames aus csv**\n",
    "- mit pd.read_csv bzw. pd.read_excel werden Daten aus Textdateien geparsed (anstatt diese line by line zu parsen)\n",
    "- über sep, encoding und decimals wird hierbei festgelegt, wie mit der Textdatei umgegangen wird\n",
    "-------------------\n",
    "\n",
    "**Aufgabe - lesen und schreiben von csv**\n",
    "\n",
    "Lesen Sie die csvs \"load_data.csv\" & \"ninja_pv.csv\" ein und printen Sie jeweils die ersten drei Zeilen"
   ]
  },
  {
   "cell_type": "code",
   "execution_count": null,
   "id": "ddffcf4d",
   "metadata": {},
   "outputs": [],
   "source": [
    "# Auslesen von Daten aus einer csv\n",
    "import pandas as pd\n",
    "import os\n"
   ]
  },
  {
   "cell_type": "markdown",
   "id": "bd94286f",
   "metadata": {},
   "source": [
    "**Schreiben von Textdateien**\n",
    "- mit pd.to_csv() bzw. pd.to_excel können auch Dateien erstellt werden\n",
    "    - df.to_csv(path, sep=\",\",header=True,index=True, decimal=\".\") (enthält noch mehr Optionen)\n",
    "    - df.to_excel(excel_writer, *, sheet_name='Sheet1', columns=None, header=True, index=True, startrow=0, startcol=0, engine=None) (enthält noch mehr Optionen)\n",
    "- Gleiches gilt für das Schreiben in Datenbanken oder json-Files--> to_sql()\n",
    "    - df.to_sql(name, con, schema=None, if_exists={'fail','replace','append'}, index=True, index_label=None)\n",
    "    - pd.read_sql(sql, con, index_col=None, coerce_float=True, params=None, parse_dates=None, columns=None)\n",
    "    - Bsp.:df=pd.read_sql('SELECT * FROM testDB, conn)\n",
    "\n",
    "-----\n",
    "**Aufgabe - Schreiben von csvs**\n",
    "Schreiben Sie die erzeugten Dateien in Excel und csv-Format"
   ]
  },
  {
   "cell_type": "code",
   "execution_count": null,
   "id": "e3463f52",
   "metadata": {},
   "outputs": [],
   "source": [
    "\n"
   ]
  },
  {
   "cell_type": "code",
   "execution_count": null,
   "id": "e1744b29",
   "metadata": {},
   "outputs": [],
   "source": [
    "import sqlite3\n",
    "import pandas as pd\n",
    "import os\n",
    "os.getcwd()\n",
    "\n"
   ]
  },
  {
   "cell_type": "markdown",
   "id": "d4f97d5d-46df-4e67-a815-b32d32cd46c7",
   "metadata": {},
   "source": [
    "### Pandas - Analyse einer PV-Zeitreihe\n",
    "\n",
    "- importieren Sie die Zeitreihe load_data.csv (moodle) mit der panda function read_csv()\n",
    "- achten Sie auf den Separator (z.B. semicolon, comma)\n",
    "- die Zeitreihe zeigt die Stromnachfrage einer Familie\n",
    "- löschen Sie alle Spalten bis auf hour_of_the_year und P_el raus\n",
    "- merge/join die Zeitreihe mit der Excel yearly_structure_2019.xlsx (Schlüssel für join ist die spalte \"hour_of_the_year\")\n",
    "- schauen Sie sich die Daten an\n",
    "- laden Sie eine Zeitreihe für eine PV-Anlage von der Seite https://www.renewables.ninja/ herunter, wählen Sie einen Ort Ihrer Wahl (alle anderen Parameter können beliebig verändert werden)\n",
    "    - import in python über read_csv()\n",
    "    - fügen Sie die Spalte hour_of_the_year aus dem dataframe yearly_structure_2019 hinzu (Länge sollte identich sein)\n",
    "    - mergen Sie den dataFrame ninja_pv mit load_data\n",
    "    - Erstellen Sie dieselbe Auswertung für die PV-Daten wie bereits oben für die Lastdaten\n",
    "\n",
    "- Machen Sie eine statistische Auswertung der Daten in der Spalte total: \n",
    "    - Was ist das Maximum und Minimum, was ist der Durchschnitt?\n",
    "    - was ist das Minimum/Maximum/Avg pro Woche?\n",
    "    - Was ist der Durchschnitt über das Jahr für jede Stunde des Tages?\n",
    "- erstellen Sie einen einfachen Plot deiner Wahl mit matplotlib\n"
   ]
  },
  {
   "cell_type": "code",
   "execution_count": null,
   "id": "ae1134dd-2c21-4eb7-a90e-00232715d7d1",
   "metadata": {},
   "outputs": [],
   "source": [
    "# Auslesen von Daten aus einer csv\n",
    "import pandas as pd\n",
    "import os\n",
    "\n"
   ]
  },
  {
   "cell_type": "code",
   "execution_count": null,
   "id": "d93f594b",
   "metadata": {},
   "outputs": [],
   "source": [
    "#einlesen aus excel\n"
   ]
  },
  {
   "cell_type": "markdown",
   "id": "b2a2eae8",
   "metadata": {},
   "source": [
    "Zusammenführen von dataFrames über joins\n",
    "\n",
    "dt=pd.merge(dt1,dt2,left_on, right_on) -> mit welchem gemeinsamen Schlüssel wird ein join durchgeführt?"
   ]
  },
  {
   "cell_type": "code",
   "execution_count": null,
   "id": "cee3d7b1",
   "metadata": {},
   "outputs": [],
   "source": [
    "\n"
   ]
  },
  {
   "cell_type": "markdown",
   "id": "7d083b08",
   "metadata": {},
   "source": [
    "**Aufgabe - Gruppieren und einfache statistische Berechnungen durchführen, anschließend in eine Excel schreiben und einen einfachen Plot erstellen**\n",
    "- groupby bedeutet: es wird nach einer Kategorie bzw. Spalte gruppiert, alle Zeilen, bei denen der Wert in der Spalte gleich ist (z.B. jede 1. Stunde des Tages) werden zusammengenommen\n",
    "- mit agg() können dann direkt Rechenoperationen ausgeführt werden\n",
    "- dt1=dt2.groupby(['Spalte xy']).agg({'Spalte z':['min','mean','max','std','sum']}) \n",
    "\n",
    "Anschließend können die Daten geplottet werden\n",
    "- einfacher Plot geht bereits in pandas: Spalte.plot() (hierbei wird die Spalte nach Y und der Index nach x geplottet)\n"
   ]
  },
  {
   "cell_type": "code",
   "execution_count": null,
   "id": "3c98bd3f",
   "metadata": {},
   "outputs": [],
   "source": [
    "# groupby -> Es wird nach der Stunde des Tages gruppiert\n",
    "# agg -> es werden bestimmte Spalten aggregiert, hier die Spalte P_el, für die verschiedene Operationen ausgeführt werden\n",
    "# anschließend muss man den DF-index bearbeiten -> von 2-line zu oneline\n"
   ]
  },
  {
   "cell_type": "markdown",
   "id": "46a3d1a5",
   "metadata": {},
   "source": [
    "**Aufgabe - individualisierter Plot - Ergebniszeitreihen plotten**\n",
    "\n",
    "beim Plot mit pyplot werden die verwendeten Zeitreihen (P_el_mean (Stromverbrauch) und pv_mean (PV-Erzeugung)) nacheinander in einen Plot geladen und aufeinander gesetzt\n",
    "Anschließend werden Achsen beschriftet etc.\n",
    "- fig,ax=plt.subplots()\n",
    "- df.plot(y=\"\",ax=ax,label='label1') -> der plot wird auf die Achsen des subplots gezeichnet\n",
    "- ax.set_xlabel('') bzw. ax.set_ylabel('') definieren Achsenbeschriftungen\n",
    "- ax.set_title('') für den Plottitel\n",
    "- plt.savefig('name',format='')\n",
    "- plt.show() -> sucht nach aktiven Figurenobjekten und öffnet ein Fenster, in dem diese angezeigt werden"
   ]
  },
  {
   "cell_type": "code",
   "execution_count": null,
   "id": "6654ed1a",
   "metadata": {},
   "outputs": [],
   "source": [
    "import matplotlib.pyplot as plt\n",
    "fig,ax=plt.subplots()\n"
   ]
  },
  {
   "cell_type": "markdown",
   "id": "bb0843e3",
   "metadata": {},
   "source": [
    "## Ende"
   ]
  }
 ],
 "metadata": {
  "kernelspec": {
   "display_name": "Python [conda env:base] *",
   "language": "python",
   "name": "conda-base-py"
  },
  "language_info": {
   "codemirror_mode": {
    "name": "ipython",
    "version": 3
   },
   "file_extension": ".py",
   "mimetype": "text/x-python",
   "name": "python",
   "nbconvert_exporter": "python",
   "pygments_lexer": "ipython3",
   "version": "3.12.7"
  }
 },
 "nbformat": 4,
 "nbformat_minor": 5
}

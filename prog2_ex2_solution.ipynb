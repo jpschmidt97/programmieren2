{
 "cells": [
  {
   "cell_type": "markdown",
   "id": "0d9a7a29",
   "metadata": {},
   "source": [
    "# Einführung in Python – Übungen"
   ]
  },
  {
   "cell_type": "markdown",
   "id": "1ca96c42-391d-4cfe-9dfc-4cd264a450e5",
   "metadata": {},
   "source": [
    "## jupyter formatierung"
   ]
  },
  {
   "cell_type": "code",
   "execution_count": 32,
   "id": "c1e17aff-721b-4925-a91c-5944e66a0256",
   "metadata": {},
   "outputs": [
    {
     "data": {
      "text/plain": [
       "'\\n# H1 (Größte Überschrift)\\n## H2\\n### H3\\n#### H4\\n\\n**Fetter Text**  \\n*Kursiver Text*  \\n`Inline-Code`\\n\\nUnsortierte Liste:\\n- Punkt 1\\n- Punkt 2\\nSortierte Liste:\\n1. Erster Punkt\\n2. Zweiter Punkt\\n\\n\\nTabelle\\n| Spalte 1 | Spalte 2 |\\n|----------|----------|\\n| Wert 1   | Wert 2   |\\n6. Zeilenumbrüche\\nZeile 1  \\nZeile 2  (mit zwei Leerzeichen am Ende)\\n'"
      ]
     },
     "execution_count": 32,
     "metadata": {},
     "output_type": "execute_result"
    }
   ],
   "source": [
    "'''\n",
    "# H1 (Größte Überschrift)\n",
    "## H2\n",
    "### H3\n",
    "#### H4\n",
    "\n",
    "**Fetter Text**  \n",
    "*Kursiver Text*  \n",
    "`Inline-Code`\n",
    "\n",
    "Unsortierte Liste:\n",
    "- Punkt 1\n",
    "- Punkt 2\n",
    "Sortierte Liste:\n",
    "1. Erster Punkt\n",
    "2. Zweiter Punkt\n",
    "\n",
    "\n",
    "Tabelle\n",
    "| Spalte 1 | Spalte 2 |\n",
    "|----------|----------|\n",
    "| Wert 1   | Wert 2   |\n",
    "6. Zeilenumbrüche\n",
    "Zeile 1  \n",
    "Zeile 2  (mit zwei Leerzeichen am Ende)\n",
    "'''"
   ]
  },
  {
   "cell_type": "markdown",
   "id": "da8c0f98-c703-497d-b4e7-a403001a84c8",
   "metadata": {},
   "source": [
    "## Jupyter Shortcuts\n",
    "**Moduswechsel**\n",
    "- Esc : Wechsel in den Befehlsmodus  \n",
    "- Enter : Wechsel in den Editiermodus\n",
    "    \n",
    "**Zellennavigation & Bearbeitung**  \n",
    "- A : Neue Zelle oberhalb einfügen (Befehlsmodus)  \n",
    "- B : Neue Zelle unterhalb einfügen (Befehlsmodus)  \n",
    "- D, D (zweimal D drücken) : Zelle löschen (Befehlsmodus)  \n",
    "- Shift + Enter : Zelle ausführen und zur nächsten springen\n",
    "- Ctrl + Enter : Zelle ausführen, aber im selben Feld bleiben\n",
    "- Alt + Enter : Zelle ausführen und neue darunter erstellen\n",
    " \n",
    "**Zellentypen ändern**\n",
    "- M : Zelle in Markdown umwandeln (für Text & Formatierung)\n",
    "- Y : Zelle in Code umwandeln\n",
    "- Zellen verschieben\n",
    "- Shift + Up/Down : Mehrere Zellen markieren\n",
    "- Esc + Up/Down : Zwischen Zellen wechseln\n",
    "- Shift + M : Markierte Zellen zusammenführen\n",
    "- Ctrl + S : Speichern\n",
    "- H : Shortcut-Hilfe anzeigen"
   ]
  },
  {
   "cell_type": "markdown",
   "id": "5a3a6c2a",
   "metadata": {},
   "source": [
    "# Basic Navigation Commands in der Kommandozeile\n",
    "**navigation**\n",
    "- cd path\\to\\directory        # Change Directory\n",
    "- dir                         # List contents of the current directory\n",
    "- cd ..                       # Move up one directory level\n",
    "- cd \\                        # Move to the root directory\n",
    "\n",
    "**File Management Commands**\n",
    "- copy source_file destination_file  # Copy files\n",
    "- move source_file destination_file  # Move files\n",
    "- del filename                       # Delete files\n",
    "- ren old_filename new_filename      # Rename files\n",
    "\n",
    "**Directory Management Commands**\n",
    "- mkdir new_directory                # Create a new directory\n",
    "- rmdir directory_name               # Remove an empty directory\n",
    "- rmdir /s directory_name            # Remove a directory and all its contents\n",
    "\n",
    "**Other Useful Commands**\n",
    "- cls                         # Clear the Command Prompt screen\n",
    "- echo message                # Display messages or turn command echoing on or off\n",
    "- type filename               # Display the contents of a text file\n",
    "- help                        # Display a list of available commands and their descriptions\n",
    "\n",
    "**Run a program**\n",
    "- navigate to the program (cd...)\n",
    "- program.exe\n"
   ]
  },
  {
   "cell_type": "markdown",
   "id": "acd6e7bf",
   "metadata": {},
   "source": [
    "### Git + Gitlab/Github\n",
    "\n",
    "Verwaltung von Repos, Sharing von Code, Versionsverwaltung Code\n",
    "\n",
    "- Installation git über Gui\n",
    "- repository erstellen -> github\n",
    "- repository initial lokal kopieren (clon) -> \n",
    "    - zum Ordner navigieren, in dem das Repo erstellt werden soll\n",
    "    - git clone URL (URL bekommt man von github)\n",
    "- Änderungen hinzufügen: git add . (alle Änderungen im Ordner)\n",
    "- Änderungen sichern\n",
    "    - git commit -m \"Beschreibung\"\n",
    "- Änderungen auf Github hochladen -> push\n",
    "    - git push origin [branchname]\n",
    "- Änderungen von Github herunterladen/synchronisieren\n",
    "    - pull\n",
    "\n"
   ]
  },
  {
   "cell_type": "markdown",
   "id": "8934f065-a487-4700-b85f-7124c159b8d2",
   "metadata": {},
   "source": [
    "**Aufgabe git**\n",
    "- Erstellen Sie ein Repository\n",
    "- Clonen Sie das Repository in einen lokalen Ordner\n",
    "- Ändern Sie lokal etwas\n",
    "- Committen und pushen Sie die lokalen Änderungen auf github (bzw. System Ihrer Wahl)"
   ]
  },
  {
   "cell_type": "markdown",
   "id": "95edd78e",
   "metadata": {},
   "source": [
    "##Pandas\n",
    "Tool zur Datenanalyse und -Manipulation\n",
    "\n",
    "**Series**: 1-dimensionales Array mit Label (wie eine Excelspalte)\n",
    "\n",
    "**DataFrame**: \n",
    "- 2-dimensionale Datenstruktur, ähnlich einer Exceltabelle\n",
    "- Spalten sind einzelne Series (DataFrame mit einer spalte ist tatsächlich automatisch eine Series)\n",
    "- index wird automatisch assigned, kann aber verändert werden\n",
    "- df.columns -> liefert Spaltennamen\n",
    "- df.rename(columns='alterName1':'neuerName1','alterName2','neuerName2') -> Umbenennung von Spaltennamen\n",
    "- len(df) -> liefert Länge eines DataFrames, sprich number of rows\n",
    "- df.shape([1]) -> liefert Spaltenanzahl\n",
    "- df.info() -> basic Infos\n",
    "- df.describe() -> liefert einfache statische Kennwerte für einen DataFrame df\n",
    "\n",
    "**Slicing eines DataFrames**\n",
    "- mit df['spalte'] wird auf eine einzelne Spalte zugegriffen\n",
    "- mit df"
   ]
  },
  {
   "cell_type": "code",
   "execution_count": null,
   "id": "c4ac24f3",
   "metadata": {},
   "outputs": [
    {
     "name": "stdout",
     "output_type": "stream",
     "text": [
      "0    10\n",
      "1    20\n",
      "2    30\n",
      "3    40\n",
      "dtype: int64\n"
     ]
    }
   ],
   "source": [
    "# Aufgabe: Erstellen Sie eine Series aus einer Liste und printen Sie\n",
    "import pandas as pd\n",
    "feld = [10, 20, 30, 40] # ist eine Liste\n",
    "series1 = pd.Series(feld)\n",
    "print(series1)"
   ]
  },
  {
   "cell_type": "markdown",
   "id": "66ca7811",
   "metadata": {},
   "source": [
    "**Aufgabe: Erstellen Sie verschiedene DFs**\n",
    "\n",
    "- DataFrames können aus dictionaries, lists of dictionaries, list of lists, numpyArrays erzeugt werden\n",
    "- erstellen S/ie auf Basis der gezeigten Möglichkeinen einen DataFrame und benennen Sie die Spalten des Dataframe. Anschließend printen Sie den DF"
   ]
  },
  {
   "cell_type": "code",
   "execution_count": null,
   "id": "4985acb0",
   "metadata": {},
   "outputs": [
    {
     "name": "stdout",
     "output_type": "stream",
     "text": [
      "<class 'pandas.core.frame.DataFrame'> Index(['name', 'alter', 'stadt'], dtype='object')      name  alter       stadt\n",
      "0  Martin      9  immenstadt\n",
      "1   Maren    545     waltenh\n",
      "2   Ahmed    654        bühl\n"
     ]
    }
   ],
   "source": [
    "# dict -> keys sind Spaltennamen, Values sind Spaltenwerte\n",
    "# Tabelle mit Personen mit Alter und Wohnort\n",
    "dt={'name':['Martin','Maren', 'Ahmed'],\n",
    "    'alter':[9,545,654],\n",
    "    'stadt':['immenstadt', 'waltenh','bühl']}\n",
    "\n",
    "df=pd.DataFrame(dt)\n",
    "print(type(df),df.columns, df)"
   ]
  },
  {
   "cell_type": "code",
   "execution_count": null,
   "id": "576bb653",
   "metadata": {},
   "outputs": [
    {
     "name": "stdout",
     "output_type": "stream",
     "text": [
      "<class 'pandas.core.frame.DataFrame'> Index(['name', 'alter', 'stadt'], dtype='object')      name  alter       stadt\n",
      "0  Martin      9  immenstadt\n",
      "1   Maren    545     waltenh\n",
      "2   Ahmed    654        bühl\n"
     ]
    }
   ],
   "source": [
    "# list of dicts\n",
    "ls=[\n",
    "    {'name': 'Martin', 'alter': 25, 'stadt': 'argenbühl'},\n",
    "    {'name': 'Joachim', 'Age': 30, 'City': 'fischen'},\n",
    "    {'name': 'Waltraut', 'Age': 35, 'City': 'ey'}\n",
    "]\n",
    "df2=pd.DataFrame(ls)\n",
    "print(type(df2),df2.columns, df2)"
   ]
  },
  {
   "cell_type": "code",
   "execution_count": null,
   "id": "34261547",
   "metadata": {},
   "outputs": [
    {
     "name": "stdout",
     "output_type": "stream",
     "text": [
      "<class 'pandas.core.frame.DataFrame'> Index(['name', 'alter', 'stadt'], dtype='object')        name  alter       stadt\n",
      "0    Werner     25      wangen\n",
      "1  Siglinde     30  rettenbach\n",
      "2      Rosl     35       akams\n",
      "----------\n",
      "name       Siglinde\n",
      "alter            30\n",
      "stadt    rettenbach\n",
      "Name: 1, dtype: object\n"
     ]
    }
   ],
   "source": [
    "# list of lists -> [ [],[],]\n",
    "ls = [\n",
    "    ['Werner', 25, 'wangen'],\n",
    "    ['Siglinde', 30, 'rettenbach'],\n",
    "    ['Rosl', 35, 'akams']\n",
    "]\n",
    "\n",
    "df3 = pd.DataFrame(ls, columns=['name', 'alter', 'stadt'])\n",
    "print(type(df3),df3.columns, df3)\n"
   ]
  },
  {
   "cell_type": "code",
   "execution_count": 16,
   "id": "d6fe15ac",
   "metadata": {},
   "outputs": [
    {
     "name": "stdout",
     "output_type": "stream",
     "text": [
      "<class 'pandas.core.frame.DataFrame'> Index(['name', 'alter', 'stadt'], dtype='object')        name alter       stadt\n",
      "0    Werner    25      wangen\n",
      "1  Siglinde    30  rettenbach\n",
      "2      Rosl    35       akams\n"
     ]
    }
   ],
   "source": [
    "# from numpy array -> numpy array ist schneller als z.B. list -> numpy core in C\n",
    "# dt=np.array([[],[]])\n",
    "import numpy as np\n",
    "npa=np.array([\n",
    "    ['Werner', 25, 'wangen'],\n",
    "    ['Siglinde', 30, 'rettenbach'],\n",
    "    ['Rosl', 35, 'akams']\n",
    "])\n",
    "df4=pd.DataFrame(npa, columns=['name', 'alter', 'stadt'])\n",
    "print(type(df4),df4.columns, df4)"
   ]
  },
  {
   "cell_type": "code",
   "execution_count": 17,
   "id": "80e738d3",
   "metadata": {},
   "outputs": [
    {
     "name": "stdout",
     "output_type": "stream",
     "text": [
      "<class 'pandas.core.frame.DataFrame'> Index(['name', 'stadt'], dtype='object')        name       stadt\n",
      "0    Werner      wangen\n",
      "1  Siglinde  rettenbach\n",
      "2      Rosl       akams\n"
     ]
    }
   ],
   "source": [
    "# from another df -> teil eines DF zu neuem DF machen\n",
    "df5=df4[['name','stadt']]\n",
    "print(type(df5),df5.columns, df5)\n"
   ]
  },
  {
   "cell_type": "markdown",
   "id": "17bd3c61",
   "metadata": {},
   "source": [
    "**Slicing eines DataFrames mit loc und iloc**\n",
    "- mit df['spalte'] wird auf eine einzelne Spalte zugegriffen\n",
    "- mit loc bzw. iloc wird genauer auf einzelne Elemente oder eine Range von Elementen zugegriffen\n",
    "\n",
    "**loc-based indexing**\n",
    "- nutzt label, sprich Zeilen- oder Spaltennamen\n",
    "- df.loc['a'] -> wenn nur 1 index gegeben, wird auf zeile (=index) zugegriffen\n",
    "- df.loc[1,'name'] -> es wird auf Zeile + Spalte zugegriffen\n",
    "- df.loc[:,'name'] -> range, aber in dem Fall alle Zeilen\n",
    "- df.loc[0:2,'name'] -> auf die Zeilen 0, 1,2 und die Spalte *name* wird zugegriffen \n",
    "\n",
    "**iloc-based indexing**\n",
    "- nutzt integer-Position zur Auswahl von Daten (wie beim Zugriff auf Java-Array, listenelement...)\n",
    "- df.iloc[1] -> wählt 2. Zeile\n",
    "- df.iloc[[1,3]] -> wählt 2. und 4. Zeile\n",
    "- df.iloc[:,1] -> wählt alle Zeilen der 2. Spalte\n",
    "- df.iloc[0:2,2] -> wählt 1. u 2. Zeile der 3. spalte"
   ]
  },
  {
   "cell_type": "markdown",
   "id": "3113d150",
   "metadata": {},
   "source": [
    "**Aufgabe - loc**\n",
    "- Greifen Sie auf eine Zeile zu\n",
    "- Greifen Sie auf eine spalte zu \n",
    "- Greifen Sie auf das element in der ersten Spalte in einer spezifischen Spalte zu\n"
   ]
  },
  {
   "cell_type": "code",
   "execution_count": null,
   "id": "96b30a18",
   "metadata": {},
   "outputs": [
    {
     "name": "stdout",
     "output_type": "stream",
     "text": [
      "     name  alter       stadt\n",
      "a  Martin      9  immenstadt\n",
      "b   Maren    545     waltenh\n",
      "c   Ahmed    654        bühl\n",
      "----------\n",
      "name         Martin\n",
      "alter             9\n",
      "stadt    immenstadt\n",
      "Name: a, dtype: object\n",
      "----------\n",
      "name         Martin\n",
      "alter             9\n",
      "stadt    immenstadt\n",
      "Name: a, dtype: object\n",
      "----------\n",
      "RangeIndex(start=0, stop=3, step=1)\n",
      "----------\n",
      "name       Maren\n",
      "alter        545\n",
      "stadt    waltenh\n",
      "Name: 1, dtype: object\n",
      "----------\n",
      "0    Martin\n",
      "1     Maren\n",
      "2     Ahmed\n",
      "Name: name, dtype: object\n",
      "----------\n",
      "immenstadt\n"
     ]
    }
   ],
   "source": [
    "# slicing mit loc\n",
    "dt={'name':['Martin','Maren', 'Ahmed'],\n",
    "    'alter':[9,545,654],\n",
    "    'stadt':['immenstadt', 'waltenh','bühl']}\n",
    "df=pd.DataFrame(dt,index=['a',\"b\",\"c\"])\n",
    "print(df)\n",
    "print(\"----------\")\n",
    "print(df.loc['a',:]) # Zugriff auf Zeile a\n",
    "print(\"----------\")\n",
    "print(df.loc['a']) # same\n",
    "print(\"----------\")\n",
    "df.reset_index(inplace=True, drop=True) # ohne drop=True wird der bestehende Index als Spalte hinzugefügt\n",
    "print(df.index)\n",
    "#print(df.loc['a',:]) geht nicht, weil Index wieder resettet\n",
    "print(\"----------\")\n",
    "print(df.loc[1]) # zugriff auf Zeile 2\n",
    "print(\"----------\")\n",
    "print(df.loc[:,'name']) # sprich Zeile 1 (geht bei 0 los) und spalte 'name'\n",
    "#print(df.loc['alter'])#geht nicht:\n",
    "print(\"----------\")\n",
    "print(df.loc[0,'stadt']) # zugriff auf Zeile 1, Spalte 'stadt'\n",
    "\n",
    "#print(df.loc[:,'alter'])\n"
   ]
  },
  {
   "cell_type": "markdown",
   "id": "f3820658",
   "metadata": {},
   "source": [
    "**Aufgabe - iloc**\n",
    "- Greifen Sie auf eine Zeile zu\n",
    "- Greifen Sie auf eine spalte zu \n",
    "- Greifen Sie auf das element in der ersten Spalte in einer spezifischen Spalte zu"
   ]
  },
  {
   "cell_type": "code",
   "execution_count": 82,
   "id": "8524ad08",
   "metadata": {},
   "outputs": [
    {
     "name": "stdout",
     "output_type": "stream",
     "text": [
      "     name  alter       stadt\n",
      "a  Martin      9  immenstadt\n",
      "\n",
      "name       Maren\n",
      "alter        545\n",
      "stadt    waltenh\n",
      "Name: b, dtype: object\n",
      "name       Maren\n",
      "alter        545\n",
      "stadt    waltenh\n",
      "Name: b, dtype: object\n"
     ]
    }
   ],
   "source": [
    "# iloc\n",
    "dt={'name':['Martin','Maren', 'Ahmed'],\n",
    "    'alter':[9,545,654],\n",
    "    'stadt':['immenstadt', 'waltenh','bühl']}\n",
    "print(df.iloc[0:1])\n",
    "print()\n",
    "print(df.iloc[1]) # 2. Zeile\n",
    "print(df.iloc[1,:])# auch 2. Zeile"
   ]
  },
  {
   "cell_type": "code",
   "execution_count": null,
   "id": "a4f5c1a5",
   "metadata": {},
   "outputs": [],
   "source": []
  },
  {
   "cell_type": "markdown",
   "id": "d30c57a0",
   "metadata": {},
   "source": [
    "**Erstellen von dataFrames aus csv**\n",
    "- mit pd.read_csv bzw. pd.read_excel werden Daten aus Textdateien geparsed (anstatt diese line by line zu parsen)\n",
    "- über sep, encoding und decimals wird hierbei festgelegt, wie mit der Textdatei umgegangen wird\n",
    "-------------------\n",
    "\n",
    "**Aufgabe - lesen und schreiben von csv**\n",
    "\n",
    "Lesen Sie die csvs \"load_data.csv\" & \"ninja_pv.csv\" ein und printen Sie jeweils die ersten drei Zeilen"
   ]
  },
  {
   "cell_type": "code",
   "execution_count": 96,
   "id": "ddffcf4d",
   "metadata": {},
   "outputs": [
    {
     "name": "stdout",
     "output_type": "stream",
     "text": [
      "Index(['hour', 'Zeitstempel', 'YYYYMMDD', 'hhmmss', 'unixtimestamp', 'P_el'], dtype='object')\n",
      "   hour      P_el\n",
      "0     1  0.271106\n",
      "1     2  0.284473\n"
     ]
    }
   ],
   "source": [
    "# Auslesen von Daten aus einer csv\n",
    "import pandas as pd\n",
    "import os\n",
    "os.chdir(\"C:\\\\Users\\\\kuehnbam\\\\Nextcloud\\\\prog2\")\n",
    "#import matplotlib.pyplot as plt\n",
    "load=pd.read_csv(\"data\\\\load_data.csv\",sep=\";\",decimal=\".\", encoding=\"utf-8\")\n",
    "# einlesen aus csv\n",
    "#load=pd.read_csv('data\\\\load_data.csv',sep=\";\",encoding='utf-8',decimal=\".\")\n",
    "print(load.columns)\n",
    "load=load.loc[:,[\"hour\",\"P_el\"]]\n",
    "print(load.iloc[0:2,:])"
   ]
  },
  {
   "cell_type": "markdown",
   "id": "bd94286f",
   "metadata": {},
   "source": [
    "**Schreiben von Textdateien**\n",
    "- mit pd.to_csv() bzw. pd.to_excel können auch Dateien erstellt werden\n",
    "    - df.to_csv(path, sep=\",\",header=True,index=True, decimal=\".\") (enthält noch mehr Optionen)\n",
    "    - df.to_excel(excel_writer, *, sheet_name='Sheet1', columns=None, header=True, index=True, startrow=0, startcol=0, engine=None) (enthält noch mehr Optionen)\n",
    "- Gleiches gilt für das Schreiben in Datenbanken oder json-Files--> to_sql()\n",
    "    - df.to_sql(name, con, schema=None, if_exists={'fail','replace','append'}, index=True, index_label=None)\n",
    "    - pd.read_sql(sql, con, index_col=None, coerce_float=True, params=None, parse_dates=None, columns=None)\n",
    "    - Bsp.:df=pd.read_sql('SELECT * FROM testDB, conn)\n",
    "\n",
    "-----\n",
    "**Aufgabe - Schreiben von csvs**\n",
    "Schreiben Sie die erzeugten Dateien in Excel und csv-Format"
   ]
  },
  {
   "cell_type": "code",
   "execution_count": null,
   "id": "e3463f52",
   "metadata": {},
   "outputs": [],
   "source": [
    "load.to_csv(\"data\\\\load_output_test.csv\",sep=\",\",decimal=\".\") # so wird mit Index geschrieben\n",
    "load.to_excel('data\\\\load_output_test.xlsx',sheet_name=\"test\")\n"
   ]
  },
  {
   "cell_type": "code",
   "execution_count": 102,
   "id": "e1744b29",
   "metadata": {},
   "outputs": [],
   "source": [
    "import sqlite3\n",
    "import pandas as pd\n",
    "import os\n",
    "os.getcwd()\n",
    "path=\"c:\\\\Users\\\\kuehnbam\\\\Nextcloud\\\\prog2\\\\data\\\\\"\n",
    "dbName = 'pv_load.sqlite'  # Name of database in which data are written\n",
    "#\n",
    "db = sqlite3.connect(path+dbName)  # Create connection to database\n",
    "load.to_sql(con=db,if_exists='append',name=\"load\")\n",
    "load2=pd.read_sql(\"Select P_el from load where hour<25 AND hour>10\",con=db)\n"
   ]
  },
  {
   "cell_type": "markdown",
   "id": "d4f97d5d-46df-4e67-a815-b32d32cd46c7",
   "metadata": {},
   "source": [
    "### Pandas - Analyse einer PV-Zeitreihe\n",
    "\n",
    "- importieren Sie die Zeitreihe load_data.csv (moodle) mit der panda function read_csv()\n",
    "- achten Sie auf den Separator (z.B. semicolon, comma)\n",
    "- die Zeitreihe zeigt die Stromnachfrage einer Familie\n",
    "- löschen Sie alle Spalten bis auf hour_of_the_year und P_el raus\n",
    "- merge/join die Zeitreihe mit der Excel yearly_structure_2019.xlsx (Schlüssel für join ist die spalte \"hour_of_the_year\")\n",
    "- schauen Sie sich die Daten an\n",
    "- laden Sie eine Zeitreihe für eine PV-Anlage von der Seite https://www.renewables.ninja/ herunter, wählen Sie einen Ort Ihrer Wahl (alle anderen Parameter können beliebig verändert werden)\n",
    "    - import in python über read_csv()\n",
    "    - fügen Sie die Spalte hour_of_the_year aus dem dataframe yearly_structure_2019 hinzu (Länge sollte identich sein)\n",
    "    - mergen Sie den dataFrame ninja_pv mit load_data\n",
    "    - Erstellen Sie dieselbe Auswertung für die PV-Daten wie bereits oben für die Lastdaten\n",
    "\n",
    "- Machen Sie eine statistische Auswertung der Daten in der Spalte total: \n",
    "    - Was ist das Maximum und Minimum, was ist der Durchschnitt?\n",
    "    - was ist das Minimum/Maximum/Avg pro Woche?\n",
    "    - Was ist der Durchschnitt über das Jahr für jede Stunde des Tages?\n",
    "- erstellen Sie einen einfachen Plot deiner Wahl mit matplotlib\n"
   ]
  },
  {
   "cell_type": "code",
   "execution_count": 105,
   "id": "ae1134dd-2c21-4eb7-a90e-00232715d7d1",
   "metadata": {},
   "outputs": [
    {
     "name": "stdout",
     "output_type": "stream",
     "text": [
      "<bound method NDFrame.head of       hour                Zeitstempel  YYYYMMDD  hhmmss  unixtimestamp  \\\n",
      "0        1  2022-12-31 23:00:00+00:00  20220101    2250     1640992950   \n",
      "1        2  2023-01-01 00:00:00+00:00  20220101   12250     1640996550   \n",
      "2        3  2023-01-01 01:00:00+00:00  20220101   22250     1641000150   \n",
      "3        4  2023-01-01 02:00:00+00:00  20220101   32250     1641003750   \n",
      "4        5  2023-01-01 03:00:00+00:00  20220101   42250     1641007350   \n",
      "...    ...                        ...       ...     ...            ...   \n",
      "8755  8756  2023-12-31 18:00:00+00:00  20221231  192250     1672510950   \n",
      "8756  8757  2023-12-31 19:00:00+00:00  20221231  202250     1672514550   \n",
      "8757  8758  2023-12-31 20:00:00+00:00  20221231  212250     1672518150   \n",
      "8758  8759  2023-12-31 21:00:00+00:00  20221231  222250     1672521750   \n",
      "8759  8760  2023-12-31 22:00:00+00:00  20221231  232250     1672525350   \n",
      "\n",
      "          P_el  \n",
      "0     0.271106  \n",
      "1     0.284473  \n",
      "2     0.276004  \n",
      "3     0.274548  \n",
      "4     0.285947  \n",
      "...        ...  \n",
      "8755  0.659323  \n",
      "8756  0.834920  \n",
      "8757  1.095359  \n",
      "8758  1.513084  \n",
      "8759  0.802595  \n",
      "\n",
      "[8760 rows x 6 columns]>\n",
      "Index(['hour', 'Zeitstempel', 'YYYYMMDD', 'hhmmss', 'unixtimestamp', 'P_el'], dtype='object')\n",
      "   hour      P_el\n",
      "0     1  0.271106\n",
      "1     2  0.284473\n"
     ]
    }
   ],
   "source": [
    "# Auslesen von Daten aus einer csv\n",
    "import pandas as pd\n",
    "import os\n",
    "os.chdir(\"C:\\\\Users\\\\kuehnbam\\\\Nextcloud\\\\prog2\")\n",
    "#import matplotlib.pyplot as plt\n",
    "\n",
    "# einlesen aus csv\n",
    "load=pd.read_csv('data\\\\load_data.csv',sep=\";\",encoding='utf-8',decimal=\".\")\n",
    "print(load.head)\n",
    "print(load.columns)\n",
    "load=load.loc[:,[\"hour\",\"P_el\"]]\n",
    "print(load.iloc[0:2,:])\n"
   ]
  },
  {
   "cell_type": "code",
   "execution_count": null,
   "id": "d93f594b",
   "metadata": {},
   "outputs": [
    {
     "name": "stdout",
     "output_type": "stream",
     "text": [
      "Index(['time', 'local_time', 'electricity', 'hour_of_the_year', 'Unnamed: 4',\n",
      "       'Unnamed: 5', 'Unnamed: 6', 'Unnamed: 7', 'Unnamed: 8', 'Unnamed: 9',\n",
      "       'Unnamed: 10', 'Unnamed: 11', 'Unnamed: 12', 'Unnamed: 13',\n",
      "       'Unnamed: 14'],\n",
      "      dtype='object')\n"
     ]
    }
   ],
   "source": [
    "#einlesen aus excel\n",
    "yearly_structure=pd.read_excel(io='data\\\\yearly_structure_2019.xlsx', sheet_name='2019')\n",
    "pv=pd.read_csv('data\\\\ninja_pv.csv',sep=\";\",header=1,encoding='utf-8',decimal=\",\",skiprows=2)\n",
    "print(pv.columns) # es gibt unnötige Spalten\n",
    "pv=pv.loc[:,['electricity','hour_of_the_year']]"
   ]
  },
  {
   "cell_type": "markdown",
   "id": "b2a2eae8",
   "metadata": {},
   "source": [
    "Zusammenführen von dataFrames über joins\n",
    "\n",
    "dt=pd.merge(dt1,dt2,left_on, right_on) -> mit welchem gemeinsamen Schlüssel wird ein join durchgeführt?"
   ]
  },
  {
   "cell_type": "code",
   "execution_count": 106,
   "id": "cee3d7b1",
   "metadata": {},
   "outputs": [
    {
     "name": "stdout",
     "output_type": "stream",
     "text": [
      "     year  hour_of_the_year  hour_of_the_day  season  day_type  \\\n",
      "0  2019.0               1.0              1.0     1.0       0.0   \n",
      "1  2019.0               2.0              2.0     1.0       0.0   \n",
      "\n",
      "   day_of_the_year                date  month          local_time  Season  \\\n",
      "0              1.0 2019-01-01 01:00:00    1.0 2019-01-01 00:00:00  Winter   \n",
      "1              1.0 2019-01-01 02:00:00    1.0 2019-01-01 01:00:00  Winter   \n",
      "\n",
      "   hour      P_el electricity  \n",
      "0     1  0.271106           0  \n",
      "1     2  0.284473           0  \n",
      "object\n"
     ]
    }
   ],
   "source": [
    "dt_all= pd.merge(yearly_structure, load, left_on='hour_of_the_year',right_on='hour',how='inner') #zusammenführen von zwei Datensätzen\n",
    "dt_all=pd.merge(dt_all,pv, left_on='hour_of_the_year', right_on='hour_of_the_year')\n",
    "print(dt_all.iloc[0:2,:]) # mit iloc kann bestimmt werden, welcher Teil des DataFrames gegriffen wird -> slicing\n",
    "dt_all.describe() # get statistical summary of the data\n",
    "print(dt_all['electricity'].dtype)\n",
    "dt_all['electricity']=pd.to_numeric(dt_all['electricity'])\n",
    "dt_all.rename(columns={'electricity':'pv'},inplace=True)\n"
   ]
  },
  {
   "cell_type": "markdown",
   "id": "7d083b08",
   "metadata": {},
   "source": [
    "**Aufgabe - Gruppieren und einfache statistische Berechnungen durchführen, anschließend in eine Excel schreiben und einen einfachen Plot erstellen**\n",
    "- groupby bedeutet: es wird nach einer Kategorie bzw. Spalte gruppiert, alle Zeilen, bei denen der Wert in der Spalte gleich ist (z.B. jede 1. Stunde des Tages) werden zusammengenommen\n",
    "- mit agg() können dann direkt Rechenoperationen ausgeführt werden\n",
    "- dt1=dt2.groupby(['Spalte xy']).agg({'Spalte z':['min','mean','max','std','sum']}) \n",
    "\n",
    "Anschließend können die Daten geplottet werden\n",
    "- einfacher Plot geht bereits in pandas: Spalte.plot() (hierbei wird die Spalte nach Y und der Index nach x geplottet)\n"
   ]
  },
  {
   "cell_type": "code",
   "execution_count": null,
   "id": "3c98bd3f",
   "metadata": {},
   "outputs": [
    {
     "data": {
      "text/plain": [
       "<Axes: >"
      ]
     },
     "execution_count": 107,
     "metadata": {},
     "output_type": "execute_result"
    },
    {
     "data": {
      "image/png": "[encoded data removed]",
      "text/plain": [
       "<Figure size 640x480 with 1 Axes>"
      ]
     },
     "metadata": {},
     "output_type": "display_data"
    }
   ],
   "source": [
    "# groupby -> Es wird nach der Stunde des Tages gruppiert\n",
    "# agg -> es werden bestimmte Spalten aggregiert, hier die Spalte P_el, für die verschiedene Operationen ausgeführt werden\n",
    "# anschließend muss man den DF-index bearbeiten -> von 2-line zu oneline\n",
    "dt_hourly=dt_all.groupby(['hour_of_the_day']).agg({'P_el':['min','mean','max','std','sum'],'pv':['min','mean','max','std','sum']}) \n",
    "# der dataframe hat jetzt einen twoline Spaltenindex, dieser wird hier auf einen 1-zeiligen Index kumuliert\n",
    "dt_hourly.columns = ['_'.join(col).strip() for col in dt_hourly.columns.values]\n",
    "dt_hourly.sort_values(by=['hour_of_the_day'],inplace=True,ascending=True) # aufsteingende Sortierung nach hour_of_the_day\n",
    "dt_hourly.reset_index(drop=True,inplace=True)# zurücksetzen des Zeilenindex\n",
    "dt_hourly.to_excel(\"pv_load_data.xlsx\",index=True)\n",
    "dt_hourly.columns\n",
    "dt_hourly.loc[:,['pv_mean','P_el_mean']].plot()"
   ]
  },
  {
   "cell_type": "markdown",
   "id": "46a3d1a5",
   "metadata": {},
   "source": [
    "**Aufgabe - individualisierter Plot - Ergebniszeitreihen plotten**\n",
    "\n",
    "beim Plot mit pyplot werden die verwendeten Zeitreihen (P_el_mean (Stromverbrauch) und pv_mean (PV-Erzeugung)) nacheinander in einen Plot geladen und aufeinander gesetzt\n",
    "Anschließend werden Achsen beschriftet etc.\n",
    "- fig,ax=plt.subplots()\n",
    "- df.plot(y=\"\",ax=ax,label='label1') -> der plot wird auf die Achsen des subplots gezeichnet\n",
    "- ax.set_xlabel('') bzw. ax.set_ylabel('') definieren Achsenbeschriftungen\n",
    "- ax.set_title('') für den Plottitel\n",
    "- plt.savefig('name',format='')\n",
    "- plt.show() -> sucht nach aktiven Figurenobjekten und öffnet ein Fenster, in dem diese angezeigt werden"
   ]
  },
  {
   "cell_type": "code",
   "execution_count": 108,
   "id": "6654ed1a",
   "metadata": {},
   "outputs": [
    {
     "data": {
      "image/png": "[encoded data removed]",
      "text/plain": [
       "<Figure size 640x480 with 1 Axes>"
      ]
     },
     "metadata": {},
     "output_type": "display_data"
    }
   ],
   "source": [
    "import matplotlib.pyplot as plt\n",
    "fig,ax=plt.subplots()\n",
    "dt_hourly.plot(y='P_el_mean', ax=ax,kind='line', marker='o', legend=True,label='P_el_mean')\n",
    "dt_hourly.plot(y='pv_mean', ax=ax,kind='line', marker='x', legend=True,label='pv_mean')# ax stellt sicher, dass beide Plots auf der gleichen Achse liegen\n",
    "\n",
    "# Achsen und Titel setzen\n",
    "ax.set_xlabel('hour_of_the_day')#Achsenbeschriftung x-achse\n",
    "ax.set_ylabel('generation / load in kWh')#Achsenbeschriftung y-achse\n",
    "ax.set_title('PV-Erzeugung vs. Last, avg. über die Stunden des Tages')#Titel\n",
    "ax.grid(True)# Raster hinzufügen\n",
    "# Plot anzeigen\n",
    "plt.savefig('pv_load.svg', format='svg')\n",
    "plt.show()"
   ]
  },
  {
   "cell_type": "markdown",
   "id": "bb0843e3",
   "metadata": {},
   "source": [
    "## Ende"
   ]
  }
 ],
 "metadata": {
  "kernelspec": {
   "display_name": "prog2",
   "language": "python",
   "name": "python3"
  },
  "language_info": {
   "codemirror_mode": {
    "name": "ipython",
    "version": 3
   },
   "file_extension": ".py",
   "mimetype": "text/x-python",
   "name": "python",
   "nbconvert_exporter": "python",
   "pygments_lexer": "ipython3",
   "version": "3.12.9"
  }
 },
 "nbformat": 4,
 "nbformat_minor": 5
}
